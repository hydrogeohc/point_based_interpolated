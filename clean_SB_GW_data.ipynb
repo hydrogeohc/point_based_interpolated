{
 "cells": [
  {
   "cell_type": "markdown",
   "metadata": {},
   "source": [
    "### This notebook is a test bed for cleaning gw well data from USGS at SB area"
   ]
  },
  {
   "cell_type": "code",
   "execution_count": 21,
   "metadata": {},
   "outputs": [],
   "source": [
    "import sys\n",
    "import os\n",
    "import matplotlib as plt\n",
    "import climata\n",
    "import glob\n",
    "import numpy as np\n",
    "import itertools\n",
    "import pandas as pd\n",
    "import datetime\n",
    "%matplotlib inline\n",
    "plt.rcParams['figure.figsize'] = (14.0, 8.0)"
   ]
  },
  {
   "cell_type": "code",
   "execution_count": 3,
   "metadata": {},
   "outputs": [],
   "source": [
    "os.chdir('/mnt/c/Users/HCD/UW_work/git/spatial_algrithom/gw_interpolated/USGS_gw/all_raw_data')"
   ]
  },
  {
   "cell_type": "code",
   "execution_count": 18,
   "metadata": {},
   "outputs": [
    {
     "data": {
      "text/plain": [
       "'/mnt/c/Users/HCD/UW_work/git/spatial_algrithom/gw_interpolated/USGS_gw/all_raw_data'"
      ]
     },
     "execution_count": 18,
     "metadata": {},
     "output_type": "execute_result"
    }
   ],
   "source": [
    "os.getcwd()"
   ]
  },
  {
   "cell_type": "code",
   "execution_count": 19,
   "metadata": {},
   "outputs": [],
   "source": [
    "files = [f for f in os.listdir('.') if os.path.isfile(f)]"
   ]
  },
  {
   "cell_type": "code",
   "execution_count": 16,
   "metadata": {},
   "outputs": [],
   "source": [
    "fname = '*.txt'"
   ]
  },
  {
   "cell_type": "markdown",
   "metadata": {},
   "source": [
    "### Read all the files after line 85 from USGS files"
   ]
  },
  {
   "cell_type": "code",
   "execution_count": 28,
   "metadata": {},
   "outputs": [],
   "source": [
    "files = glob.glob(fname)\n",
    "#print(files)\n",
    "for name in files:\n",
    "    name2=os.path.splitext(name)[0]+'_new.txt'\n",
    "    #print(name2)\n",
    "    with open(name) as f:\n",
    "        with open(name2,'a') as f2:\n",
    "            for line in islice(f, 85, None):\n",
    "                f2.write(line)\n",
    "                #pass\n"
   ]
  },
  {
   "cell_type": "markdown",
   "metadata": {},
   "source": [
    "### Clean the files with inconsistent data (shifted columns)"
   ]
  },
  {
   "cell_type": "code",
   "execution_count": 8,
   "metadata": {},
   "outputs": [],
   "source": [
    "def coltype(string):\n",
    "    if(string.count(':') == 1):\n",
    "        return 0\n",
    "    if(string==\"PDT\" or string==\"PST\"):\n",
    "        return 1\n",
    "    if(string.count('.') == 1):\n",
    "        return 2"
   ]
  },
  {
   "cell_type": "code",
   "execution_count": 9,
   "metadata": {},
   "outputs": [],
   "source": [
    "filename='/mnt/c/Users/HCD/UW_work/spatial_algrithom/Data/gw_interpolated/USGS_gw/procesed_data/test/USGS_342519119391301.txt'\n",
    "#filename=\"USGS_342455119405603.txt\"\n",
    "base=os.path.basename(filename)\n",
    "split=os.path.splitext(base)\n",
    "\n",
    "outfile=((split[0])[3:])[:-4]+'.txt'\n",
    "\n",
    "output_file=open(outfile,'w')\n",
    "with open(filename) as input_file:\n",
    "    foundusgs=0\n",
    "    for line in input_file:\n",
    "        cols = line.split()\n",
    "        newline=[]\n",
    "        foundval=0\n",
    "        if(cols[0] != \"USGS\" and foundusgs == 1):\n",
    "            break\n",
    "        if(cols[0] == \"USGS\"):\n",
    "            foundusgs=1\n",
    "        else:\n",
    "            continue\n",
    "        #print(line)\n",
    "        for col in cols:\n",
    "            ctype=coltype(col)\n",
    "            if(ctype!=0 and ctype!=1):\n",
    "                newline.append(col)\n",
    "            if(ctype==2):\n",
    "                foundval=1\n",
    "                break\n",
    "        if(foundval):\n",
    "            output_file.write(newline[0]+\" \"+newline[1]+\" \"+newline[2]+\" \"+newline[3]+\" \"+newline[4]+\"\\n\")\n",
    "output_file.close()\n"
   ]
  },
  {
   "cell_type": "markdown",
   "metadata": {},
   "source": [
    "### Get the list of site_ID from the filename"
   ]
  },
  {
   "cell_type": "code",
   "execution_count": 3,
   "metadata": {},
   "outputs": [],
   "source": [
    "fname = '*.txt'\n",
    "files = glob.glob(fname)"
   ]
  },
  {
   "cell_type": "code",
   "execution_count": 4,
   "metadata": {},
   "outputs": [],
   "source": [
    "name2=[]"
   ]
  },
  {
   "cell_type": "code",
   "execution_count": 5,
   "metadata": {},
   "outputs": [],
   "source": [
    "for name in files:\n",
    "    base=os.path.basename(name)\n",
    "    split=os.path.splitext(base)\n",
    "    name2.append((split[0])[5:])"
   ]
  },
  {
   "cell_type": "code",
   "execution_count": 6,
   "metadata": {},
   "outputs": [],
   "source": [
    "name2ok=pd.DataFrame(name2)\n",
    "name2ok.to_csv('gw_well.txt')"
   ]
  },
  {
   "cell_type": "markdown",
   "metadata": {},
   "source": [
    "### Resample the daily GW values into average monthly step"
   ]
  },
  {
   "cell_type": "code",
   "execution_count": 34,
   "metadata": {},
   "outputs": [],
   "source": [
    "fname = '*.txt'\n",
    "allf = glob.glob(fname)"
   ]
  },
  {
   "cell_type": "code",
   "execution_count": 35,
   "metadata": {},
   "outputs": [
    {
     "name": "stderr",
     "output_type": "stream",
     "text": [
      "/home/yingjung_cd/miniconda3/lib/python3.6/site-packages/ipykernel_launcher.py:10: FutureWarning: how in .resample() is deprecated\n",
      "the new syntax is .resample(...).mean()\n",
      "  # Remove the CWD from sys.path while we load stuff.\n"
     ]
    }
   ],
   "source": [
    "i=1\n",
    "for file in allf:\n",
    "    file1 = pd.read_table(file, delim_whitespace=True) #skiprows=[0]\n",
    "    id='WTD_'+str(i)\n",
    "    i+=1\n",
    "    file1.columns=['agency','Site_ID','type','Date',id]\n",
    "    file1['Date'] = pd.to_datetime(file1['Date'])\n",
    "    file1ok= file1.set_index(pd.DatetimeIndex(file1['Date']))\n",
    "    file1okf=file1ok.resample(\"M\", how='mean')\n",
    "    base=os.path.basename(file)\n",
    "    split=os.path.splitext(base)\n",
    "    file1okf.to_csv(split[0]+'_ok.csv')"
   ]
  },
  {
   "cell_type": "markdown",
   "metadata": {},
   "source": [
    "### Moving files from folder to another folder"
   ]
  },
  {
   "cell_type": "code",
   "execution_count": 37,
   "metadata": {},
   "outputs": [],
   "source": [
    "import glob, os, shutil\n",
    "\n",
    "source_dir = '/mnt/c/Users/HCD/UW_work/spatial_algrithom/Data/gw_interpolated/USGS_gw/procesed_data/raw_text_ok' #Path where your files are at the moment\n",
    "dst = '/mnt/c/Users/HCD/UW_work/spatial_algrithom/Data/gw_interpolated/USGS_gw/procesed_data/test' #Path you want to move your files to\n",
    "files = glob.iglob(os.path.join(source_dir, \"*.csv\"))\n",
    "for file in files:\n",
    "    if os.path.isfile(file):\n",
    "        shutil.move(file, dst)"
   ]
  },
  {
   "cell_type": "markdown",
   "metadata": {},
   "source": [
    "### Merge all the files based on one column"
   ]
  },
  {
   "cell_type": "code",
   "execution_count": 90,
   "metadata": {},
   "outputs": [
    {
     "name": "stderr",
     "output_type": "stream",
     "text": [
      "/home/yingjung_cd/miniconda3/lib/python3.6/site-packages/ipykernel_launcher.py:6: FutureWarning: Sorting because non-concatenation axis is not aligned. A future version\n",
      "of pandas will change to not sort by default.\n",
      "\n",
      "To accept the future behavior, pass 'sort=False'.\n",
      "\n",
      "To retain the current behavior and silence the warning, pass 'sort=True'.\n",
      "\n",
      "  \n"
     ]
    }
   ],
   "source": [
    "path = r'/mnt/c/Users/HCD/UW_work/spatial_algrithom/Data/gw_interpolated/USGS_gw/procesed_data' # use your path\n",
    "                    # use your path\n",
    "all_files = glob.glob(os.path.join(path, \"*.csv\"))\n",
    "lodf = [pd.read_csv(f) for f in all_files]\n",
    "\n",
    "df = pd.concat([d.set_index('Date') for d in lodf], axis=1).reset_index()\n",
    "df.drop('Site_ID', axis=1, inplace=True)\n",
    "df.to_csv(\"all_test_ok1.csv\")"
   ]
  }
 ],
 "metadata": {
  "kernelspec": {
   "display_name": "Python 3",
   "language": "python",
   "name": "python3"
  },
  "language_info": {
   "codemirror_mode": {
    "name": "ipython",
    "version": 3
   },
   "file_extension": ".py",
   "mimetype": "text/x-python",
   "name": "python",
   "nbconvert_exporter": "python",
   "pygments_lexer": "ipython3",
   "version": "3.6.8"
  }
 },
 "nbformat": 4,
 "nbformat_minor": 2
}
