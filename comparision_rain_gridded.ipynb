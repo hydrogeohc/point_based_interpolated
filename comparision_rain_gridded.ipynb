{
 "cells": [
  {
   "cell_type": "markdown",
   "metadata": {},
   "source": [
    "### This notebook is a test bed for cleaning gw well data from USGS at SB area"
   ]
  },
  {
   "cell_type": "code",
   "execution_count": 22,
   "metadata": {},
   "outputs": [],
   "source": [
    "import sys\n",
    "import os\n",
    "import matplotlib as plt\n",
    "from matplotlib import *\n",
    "import matplotlib.pyplot as plt\n",
    "import glob\n",
    "import numpy as np\n",
    "import itertools\n",
    "import pandas as pd\n",
    "import datetime\n",
    "%matplotlib inline"
   ]
  },
  {
   "cell_type": "code",
   "execution_count": 2,
   "metadata": {},
   "outputs": [],
   "source": [
    "os.chdir('/mnt/c/Users/HCD/UW_work/spatial_algrithom/Data/rain/MC00_GV')"
   ]
  },
  {
   "cell_type": "code",
   "execution_count": 3,
   "metadata": {},
   "outputs": [],
   "source": [
    "filenames='/mnt/c/Users/HCD/UW_work/spatial_algrithom/Data/rain/MC00_GV'"
   ]
  },
  {
   "cell_type": "code",
   "execution_count": 4,
   "metadata": {},
   "outputs": [],
   "source": [
    "A=pd.read_csv(\"MC00_all_daily.csv\")"
   ]
  },
  {
   "cell_type": "code",
   "execution_count": 5,
   "metadata": {},
   "outputs": [
    {
     "data": {
      "text/html": [
       "<div>\n",
       "<style scoped>\n",
       "    .dataframe tbody tr th:only-of-type {\n",
       "        vertical-align: middle;\n",
       "    }\n",
       "\n",
       "    .dataframe tbody tr th {\n",
       "        vertical-align: top;\n",
       "    }\n",
       "\n",
       "    .dataframe thead th {\n",
       "        text-align: right;\n",
       "    }\n",
       "</style>\n",
       "<table border=\"1\" class=\"dataframe\">\n",
       "  <thead>\n",
       "    <tr style=\"text-align: right;\">\n",
       "      <th></th>\n",
       "      <th>Date</th>\n",
       "      <th>GWR_P</th>\n",
       "      <th>Daymet_P</th>\n",
       "      <th>Prism_P</th>\n",
       "    </tr>\n",
       "  </thead>\n",
       "  <tbody>\n",
       "    <tr>\n",
       "      <th>0</th>\n",
       "      <td>10/1/2000</td>\n",
       "      <td>0.0</td>\n",
       "      <td>0.0</td>\n",
       "      <td>0.0</td>\n",
       "    </tr>\n",
       "    <tr>\n",
       "      <th>1</th>\n",
       "      <td>10/2/2000</td>\n",
       "      <td>0.0</td>\n",
       "      <td>0.0</td>\n",
       "      <td>0.0</td>\n",
       "    </tr>\n",
       "    <tr>\n",
       "      <th>2</th>\n",
       "      <td>10/3/2000</td>\n",
       "      <td>0.0</td>\n",
       "      <td>0.0</td>\n",
       "      <td>0.0</td>\n",
       "    </tr>\n",
       "    <tr>\n",
       "      <th>3</th>\n",
       "      <td>10/4/2000</td>\n",
       "      <td>0.0</td>\n",
       "      <td>0.0</td>\n",
       "      <td>0.0</td>\n",
       "    </tr>\n",
       "    <tr>\n",
       "      <th>4</th>\n",
       "      <td>10/5/2000</td>\n",
       "      <td>0.0</td>\n",
       "      <td>0.0</td>\n",
       "      <td>0.0</td>\n",
       "    </tr>\n",
       "  </tbody>\n",
       "</table>\n",
       "</div>"
      ],
      "text/plain": [
       "        Date  GWR_P  Daymet_P  Prism_P\n",
       "0  10/1/2000    0.0       0.0      0.0\n",
       "1  10/2/2000    0.0       0.0      0.0\n",
       "2  10/3/2000    0.0       0.0      0.0\n",
       "3  10/4/2000    0.0       0.0      0.0\n",
       "4  10/5/2000    0.0       0.0      0.0"
      ]
     },
     "execution_count": 5,
     "metadata": {},
     "output_type": "execute_result"
    }
   ],
   "source": [
    "A.head()"
   ]
  },
  {
   "cell_type": "code",
   "execution_count": 6,
   "metadata": {},
   "outputs": [],
   "source": [
    "A['Date'] = pd.to_datetime(A['Date'])"
   ]
  },
  {
   "cell_type": "code",
   "execution_count": 7,
   "metadata": {},
   "outputs": [],
   "source": [
    "A['year'], A['month'] = A['Date'].dt.year, A['Date'].dt.month"
   ]
  },
  {
   "cell_type": "code",
   "execution_count": 8,
   "metadata": {},
   "outputs": [
    {
     "data": {
      "text/html": [
       "<div>\n",
       "<style scoped>\n",
       "    .dataframe tbody tr th:only-of-type {\n",
       "        vertical-align: middle;\n",
       "    }\n",
       "\n",
       "    .dataframe tbody tr th {\n",
       "        vertical-align: top;\n",
       "    }\n",
       "\n",
       "    .dataframe thead th {\n",
       "        text-align: right;\n",
       "    }\n",
       "</style>\n",
       "<table border=\"1\" class=\"dataframe\">\n",
       "  <thead>\n",
       "    <tr style=\"text-align: right;\">\n",
       "      <th></th>\n",
       "      <th>Date</th>\n",
       "      <th>GWR_P</th>\n",
       "      <th>Daymet_P</th>\n",
       "      <th>Prism_P</th>\n",
       "      <th>year</th>\n",
       "      <th>month</th>\n",
       "    </tr>\n",
       "  </thead>\n",
       "  <tbody>\n",
       "    <tr>\n",
       "      <th>0</th>\n",
       "      <td>2000-10-01</td>\n",
       "      <td>0.0</td>\n",
       "      <td>0.0</td>\n",
       "      <td>0.0</td>\n",
       "      <td>2000</td>\n",
       "      <td>10</td>\n",
       "    </tr>\n",
       "    <tr>\n",
       "      <th>1</th>\n",
       "      <td>2000-10-02</td>\n",
       "      <td>0.0</td>\n",
       "      <td>0.0</td>\n",
       "      <td>0.0</td>\n",
       "      <td>2000</td>\n",
       "      <td>10</td>\n",
       "    </tr>\n",
       "    <tr>\n",
       "      <th>2</th>\n",
       "      <td>2000-10-03</td>\n",
       "      <td>0.0</td>\n",
       "      <td>0.0</td>\n",
       "      <td>0.0</td>\n",
       "      <td>2000</td>\n",
       "      <td>10</td>\n",
       "    </tr>\n",
       "    <tr>\n",
       "      <th>3</th>\n",
       "      <td>2000-10-04</td>\n",
       "      <td>0.0</td>\n",
       "      <td>0.0</td>\n",
       "      <td>0.0</td>\n",
       "      <td>2000</td>\n",
       "      <td>10</td>\n",
       "    </tr>\n",
       "    <tr>\n",
       "      <th>4</th>\n",
       "      <td>2000-10-05</td>\n",
       "      <td>0.0</td>\n",
       "      <td>0.0</td>\n",
       "      <td>0.0</td>\n",
       "      <td>2000</td>\n",
       "      <td>10</td>\n",
       "    </tr>\n",
       "  </tbody>\n",
       "</table>\n",
       "</div>"
      ],
      "text/plain": [
       "        Date  GWR_P  Daymet_P  Prism_P  year  month\n",
       "0 2000-10-01    0.0       0.0      0.0  2000     10\n",
       "1 2000-10-02    0.0       0.0      0.0  2000     10\n",
       "2 2000-10-03    0.0       0.0      0.0  2000     10\n",
       "3 2000-10-04    0.0       0.0      0.0  2000     10\n",
       "4 2000-10-05    0.0       0.0      0.0  2000     10"
      ]
     },
     "execution_count": 8,
     "metadata": {},
     "output_type": "execute_result"
    }
   ],
   "source": [
    "A.head()"
   ]
  },
  {
   "cell_type": "code",
   "execution_count": 40,
   "metadata": {},
   "outputs": [
    {
     "ename": "AttributeError",
     "evalue": "Cannot access callable attribute 'to_frame' of 'SeriesGroupBy' objects, try using the 'apply' method",
     "output_type": "error",
     "traceback": [
      "\u001b[0;31m---------------------------------------------------------------------------\u001b[0m",
      "\u001b[0;31mAttributeError\u001b[0m                            Traceback (most recent call last)",
      "\u001b[0;32m<ipython-input-40-05894b8949ca>\u001b[0m in \u001b[0;36m<module>\u001b[0;34m\u001b[0m\n\u001b[1;32m      1\u001b[0m \u001b[0mg\u001b[0m \u001b[0;34m=\u001b[0m \u001b[0mA\u001b[0m\u001b[0;34m.\u001b[0m\u001b[0mgroupby\u001b[0m\u001b[0;34m(\u001b[0m\u001b[0;34m\"month\"\u001b[0m\u001b[0;34m)\u001b[0m\u001b[0;34m[\u001b[0m\u001b[0;34m\"GWR_P\"\u001b[0m\u001b[0;34m]\u001b[0m\u001b[0;34m\u001b[0m\u001b[0;34m\u001b[0m\u001b[0m\n\u001b[0;32m----> 2\u001b[0;31m \u001b[0mg2\u001b[0m\u001b[0;34m=\u001b[0m \u001b[0mA\u001b[0m\u001b[0;34m.\u001b[0m\u001b[0mgroupby\u001b[0m\u001b[0;34m(\u001b[0m\u001b[0;34m\"month\"\u001b[0m\u001b[0;34m)\u001b[0m\u001b[0;34m[\u001b[0m\u001b[0;34m\"Daymet_P\"\u001b[0m\u001b[0;34m]\u001b[0m\u001b[0;34m.\u001b[0m\u001b[0mto_frame\u001b[0m\u001b[0;34m(\u001b[0m\u001b[0;34m)\u001b[0m\u001b[0;34m.\u001b[0m\u001b[0mreset_index\u001b[0m\u001b[0;34m(\u001b[0m\u001b[0;34m)\u001b[0m\u001b[0;34m\u001b[0m\u001b[0;34m\u001b[0m\u001b[0m\n\u001b[0m\u001b[1;32m      3\u001b[0m \u001b[0mg3\u001b[0m\u001b[0;34m=\u001b[0m \u001b[0mA\u001b[0m\u001b[0;34m.\u001b[0m\u001b[0mgroupby\u001b[0m\u001b[0;34m(\u001b[0m\u001b[0;34m\"month\"\u001b[0m\u001b[0;34m)\u001b[0m\u001b[0;34m[\u001b[0m\u001b[0;34m\"Prism_P\"\u001b[0m\u001b[0;34m]\u001b[0m\u001b[0;34m.\u001b[0m\u001b[0mto_frame\u001b[0m\u001b[0;34m(\u001b[0m\u001b[0;34m)\u001b[0m\u001b[0;34m.\u001b[0m\u001b[0mreset_index\u001b[0m\u001b[0;34m(\u001b[0m\u001b[0;34m)\u001b[0m\u001b[0;34m\u001b[0m\u001b[0;34m\u001b[0m\u001b[0m\n",
      "\u001b[0;32m~/miniconda3/lib/python3.6/site-packages/pandas/core/groupby/groupby.py\u001b[0m in \u001b[0;36m__getattr__\u001b[0;34m(self, attr)\u001b[0m\n\u001b[1;32m    531\u001b[0m             \u001b[0;32mreturn\u001b[0m \u001b[0mself\u001b[0m\u001b[0;34m[\u001b[0m\u001b[0mattr\u001b[0m\u001b[0;34m]\u001b[0m\u001b[0;34m\u001b[0m\u001b[0;34m\u001b[0m\u001b[0m\n\u001b[1;32m    532\u001b[0m         \u001b[0;32mif\u001b[0m \u001b[0mhasattr\u001b[0m\u001b[0;34m(\u001b[0m\u001b[0mself\u001b[0m\u001b[0;34m.\u001b[0m\u001b[0mobj\u001b[0m\u001b[0;34m,\u001b[0m \u001b[0mattr\u001b[0m\u001b[0;34m)\u001b[0m\u001b[0;34m:\u001b[0m\u001b[0;34m\u001b[0m\u001b[0;34m\u001b[0m\u001b[0m\n\u001b[0;32m--> 533\u001b[0;31m             \u001b[0;32mreturn\u001b[0m \u001b[0mself\u001b[0m\u001b[0;34m.\u001b[0m\u001b[0m_make_wrapper\u001b[0m\u001b[0;34m(\u001b[0m\u001b[0mattr\u001b[0m\u001b[0;34m)\u001b[0m\u001b[0;34m\u001b[0m\u001b[0;34m\u001b[0m\u001b[0m\n\u001b[0m\u001b[1;32m    534\u001b[0m \u001b[0;34m\u001b[0m\u001b[0m\n\u001b[1;32m    535\u001b[0m         raise AttributeError(\"%r object has no attribute %r\" %\n",
      "\u001b[0;32m~/miniconda3/lib/python3.6/site-packages/pandas/core/groupby/groupby.py\u001b[0m in \u001b[0;36m_make_wrapper\u001b[0;34m(self, name)\u001b[0m\n\u001b[1;32m    568\u001b[0m                    \"using the 'apply' method\".format(kind, name,\n\u001b[1;32m    569\u001b[0m                                                      type(self).__name__))\n\u001b[0;32m--> 570\u001b[0;31m             \u001b[0;32mraise\u001b[0m \u001b[0mAttributeError\u001b[0m\u001b[0;34m(\u001b[0m\u001b[0mmsg\u001b[0m\u001b[0;34m)\u001b[0m\u001b[0;34m\u001b[0m\u001b[0;34m\u001b[0m\u001b[0m\n\u001b[0m\u001b[1;32m    571\u001b[0m \u001b[0;34m\u001b[0m\u001b[0m\n\u001b[1;32m    572\u001b[0m         \u001b[0mself\u001b[0m\u001b[0;34m.\u001b[0m\u001b[0m_set_group_selection\u001b[0m\u001b[0;34m(\u001b[0m\u001b[0;34m)\u001b[0m\u001b[0;34m\u001b[0m\u001b[0;34m\u001b[0m\u001b[0m\n",
      "\u001b[0;31mAttributeError\u001b[0m: Cannot access callable attribute 'to_frame' of 'SeriesGroupBy' objects, try using the 'apply' method"
     ]
    }
   ],
   "source": [
    "g = A.groupby(\"month\")[\"GWR_P\"].mean().to_frame().reset_index()\n",
    "g2= A.groupby(\"month\")[\"Daymet_P\"].mean().to_frame().reset_index()\n",
    "g3= A.groupby(\"month\")[\"Prism_P\"].mean().to_frame().reset_index()"
   ]
  },
  {
   "cell_type": "code",
   "execution_count": 42,
   "metadata": {},
   "outputs": [],
   "source": [
    "y=A.groupby(\"year\")[\"GWR_P\"].sum().to_frame().reset_index()\n",
    "y2= A.groupby(\"year\")[\"Daymet_P\"].sum().to_frame().reset_index()\n",
    "y3= A.groupby(\"year\")[\"Prism_P\"].sum().to_frame().reset_index()"
   ]
  },
  {
   "cell_type": "code",
   "execution_count": 44,
   "metadata": {},
   "outputs": [],
   "source": [
    "allok=pd.merge(y, y2, on='year')\n",
    "allok2=pd.merge(y3, allok,on='year')"
   ]
  },
  {
   "cell_type": "code",
   "execution_count": 45,
   "metadata": {},
   "outputs": [
    {
     "name": "stdout",
     "output_type": "stream",
     "text": [
      "    year      Prism_P       GWR_P     Daymet_P\n",
      "0   2000   119.138643   89.442723    86.493594\n",
      "1   2001   917.549274  837.472471   899.783074\n",
      "2   2002   427.044580  392.629398   442.331539\n",
      "3   2003   812.694133  456.170585   571.790837\n",
      "4   2004  1391.465552  650.413439   659.882507\n",
      "5   2005  1064.992246  889.990468  1002.201950\n",
      "6   2006   689.727000  506.264375   627.311666\n",
      "7   2007   282.864950  272.380494   286.801938\n",
      "8   2008   650.394831  708.730512   650.905158\n",
      "9   2009   463.549661  435.462696   485.726869\n",
      "10  2010   903.245687  922.880688   905.894556\n",
      "11  2011   541.061632  574.728406   551.671032\n",
      "12  2012   398.649075  469.390475   458.758349\n",
      "13  2013   134.591927  132.334008   160.494838\n",
      "14  2014   421.385513  367.619778   421.893674\n",
      "15  2015   116.812132  128.731496   112.335010\n"
     ]
    }
   ],
   "source": [
    "print(allok2)"
   ]
  },
  {
   "cell_type": "markdown",
   "metadata": {},
   "source": [
    "### Group annual bar plot"
   ]
  },
  {
   "cell_type": "code",
   "execution_count": 46,
   "metadata": {},
   "outputs": [],
   "source": [
    "pos = list(range(len(allok2['GWR_P']))) \n",
    "width = 0.25"
   ]
  },
  {
   "cell_type": "code",
   "execution_count": 56,
   "metadata": {},
   "outputs": [
    {
     "data": {
      "image/png": "[encoded data removed]",
      "text/plain": [
       "<Figure size 720x360 with 1 Axes>"
      ]
     },
     "metadata": {
      "needs_background": "light"
     },
     "output_type": "display_data"
    }
   ],
   "source": [
    "fig, ax = plt.subplots(figsize=(10,5))\n",
    "plt.bar(pos, \n",
    "        #using df['pre_score'] data,\n",
    "        allok2['Prism_P'], \n",
    "        # of width\n",
    "        width, \n",
    "        # with alpha 0.5\n",
    "        alpha=0.5, \n",
    "        # with color\n",
    "        color='green', \n",
    "        # with label the first value in first_name\n",
    "        label=allok2['year'][0]) \n",
    "\n",
    "plt.bar([p + width for p in pos], \n",
    "        #using df['mid_score'] data,\n",
    "        allok2['Daymet_P'],\n",
    "        # of width\n",
    "        width, \n",
    "        # with alpha 0.5\n",
    "        alpha=0.5, \n",
    "        # with color\n",
    "        color='darkorange', \n",
    "        # with label the second value in first_name\n",
    "        label=allok2['year'][1]) \n",
    "\n",
    "plt.bar([p + width*2 for p in pos], \n",
    "        #using df['post_score'] data,\n",
    "        allok2['GWR_P'], \n",
    "        # of width\n",
    "        width, \n",
    "        # with alpha 0.5\n",
    "        alpha=0.5, \n",
    "        # with color\n",
    "        color='navy', \n",
    "        # with label the third value in first_name\n",
    "        label=allok2['year'][2])\n",
    "\n",
    "ax.set_ylabel('Rainfall amounts (mm)')\n",
    "ax.set_xlabel('Year')\n",
    "\n",
    "ax.set_xticks([p + 1.5 * width for p in pos])\n",
    "ax.set_xticklabels(allok2['year'])\n",
    "\n",
    "plt.xlim(min(pos)-width, max(pos)+width*4)\n",
    "plt.ylim([0, 1500] )\n",
    "\n",
    "plt.legend(['PRISM', 'Daymet', 'GWR'], loc='upper left')\n",
    "plt.grid()\n",
    "plt.show()"
   ]
  },
  {
   "cell_type": "markdown",
   "metadata": {},
   "source": [
    "### Read all the files in a folder and append it into a large file"
   ]
  },
  {
   "cell_type": "code",
   "execution_count": 8,
   "metadata": {},
   "outputs": [
    {
     "name": "stdout",
     "output_type": "stream",
     "text": [
      "['GV_prism_WY2002_mean.csv', 'GV_prism_WY2003_mean.csv', 'GV_prism_WY2004_mean.csv', 'GV_prism_WY2005_mean.csv', 'GV_prism_WY2006_mean.csv', 'GV_prism_WY2007_mean.csv', 'GV_prism_WY2008_mean.csv', 'GV_prism_WY2009_mean.csv', 'GV_prism_WY2010_mean.csv', 'GV_prism_WY2011_mean.csv', 'GV_prism_WY2012_mean.csv', 'GV_prism_WY2013_mean.csv', 'GV_prism_WY2014_mean.csv', 'GV_prism_WY2015_mean.csv']\n"
     ]
    }
   ],
   "source": [
    "files = []\n",
    "list_of_files = os.listdir(os.getcwd()) #list of files in the current directory\n",
    "for each_file in list_of_files:\n",
    "    if each_file.startswith('GV'):  #since its all type str you can simply use startswith\n",
    "        files.append(each_file)\n",
    "print(files)"
   ]
  },
  {
   "cell_type": "code",
   "execution_count": 9,
   "metadata": {},
   "outputs": [],
   "source": [
    "combined_csv = pd.concat( [ pd.read_csv(f) for f in files ] )\n",
    "combined_csv.to_csv( \"GV_combined_prism.csv\", index=False )"
   ]
  },
  {
   "cell_type": "markdown",
   "metadata": {},
   "source": [
    "### Read all the files after line 85 from USGS files¶"
   ]
  },
  {
   "cell_type": "code",
   "execution_count": 19,
   "metadata": {},
   "outputs": [],
   "source": [
    "files = [f for f in os.listdir('.') if os.path.isfile(f)]"
   ]
  },
  {
   "cell_type": "code",
   "execution_count": 16,
   "metadata": {},
   "outputs": [],
   "source": [
    "fname = '*.txt'"
   ]
  },
  {
   "cell_type": "code",
   "execution_count": 28,
   "metadata": {},
   "outputs": [],
   "source": [
    "files = glob.glob(fname)\n",
    "#print(files)\n",
    "for name in files:\n",
    "    name2=os.path.splitext(name)[0]+'_new.txt'\n",
    "    #print(name2)\n",
    "    with open(name) as f:\n",
    "        with open(name2,'a') as f2:\n",
    "            for line in islice(f, 85, None):\n",
    "                f2.write(line)\n",
    "                #pass\n"
   ]
  },
  {
   "cell_type": "markdown",
   "metadata": {},
   "source": [
    "### Clean the files with inconsistent data (shifted columns)"
   ]
  },
  {
   "cell_type": "code",
   "execution_count": 8,
   "metadata": {},
   "outputs": [],
   "source": [
    "def coltype(string):\n",
    "    if(string.count(':') == 1):\n",
    "        return 0\n",
    "    if(string==\"PDT\" or string==\"PST\"):\n",
    "        return 1\n",
    "    if(string.count('.') == 1):\n",
    "        return 2"
   ]
  },
  {
   "cell_type": "code",
   "execution_count": 9,
   "metadata": {},
   "outputs": [],
   "source": [
    "filename='/mnt/c/Users/HCD/UW_work/spatial_algrithom/Data/gw_interpolated/USGS_gw/procesed_data/test/USGS_342519119391301.txt'\n",
    "#filename=\"USGS_342455119405603.txt\"\n",
    "base=os.path.basename(filename)\n",
    "split=os.path.splitext(base)\n",
    "\n",
    "outfile=((split[0])[3:])[:-4]+'.txt'\n",
    "\n",
    "output_file=open(outfile,'w')\n",
    "with open(filename) as input_file:\n",
    "    foundusgs=0\n",
    "    for line in input_file:\n",
    "        cols = line.split()\n",
    "        newline=[]\n",
    "        foundval=0\n",
    "        if(cols[0] != \"USGS\" and foundusgs == 1):\n",
    "            break\n",
    "        if(cols[0] == \"USGS\"):\n",
    "            foundusgs=1\n",
    "        else:\n",
    "            continue\n",
    "        #print(line)\n",
    "        for col in cols:\n",
    "            ctype=coltype(col)\n",
    "            if(ctype!=0 and ctype!=1):\n",
    "                newline.append(col)\n",
    "            if(ctype==2):\n",
    "                foundval=1\n",
    "                break\n",
    "        if(foundval):\n",
    "            output_file.write(newline[0]+\" \"+newline[1]+\" \"+newline[2]+\" \"+newline[3]+\" \"+newline[4]+\"\\n\")\n",
    "output_file.close()\n"
   ]
  },
  {
   "cell_type": "markdown",
   "metadata": {},
   "source": [
    "### Get the list of site_ID from the filename"
   ]
  },
  {
   "cell_type": "code",
   "execution_count": 3,
   "metadata": {},
   "outputs": [],
   "source": [
    "fname = '*.txt'\n",
    "files = glob.glob(fname)"
   ]
  },
  {
   "cell_type": "code",
   "execution_count": 4,
   "metadata": {},
   "outputs": [],
   "source": [
    "name2=[]"
   ]
  },
  {
   "cell_type": "code",
   "execution_count": 5,
   "metadata": {},
   "outputs": [],
   "source": [
    "for name in files:\n",
    "    base=os.path.basename(name)\n",
    "    split=os.path.splitext(base)\n",
    "    name2.append((split[0])[5:])"
   ]
  },
  {
   "cell_type": "code",
   "execution_count": 6,
   "metadata": {},
   "outputs": [],
   "source": [
    "name2ok=pd.DataFrame(name2)\n",
    "name2ok.to_csv('gw_well.txt')"
   ]
  },
  {
   "cell_type": "markdown",
   "metadata": {},
   "source": [
    "### Resample the daily GW values into average monthly step"
   ]
  },
  {
   "cell_type": "code",
   "execution_count": 34,
   "metadata": {},
   "outputs": [],
   "source": [
    "fname = '*.txt'\n",
    "allf = glob.glob(fname)"
   ]
  },
  {
   "cell_type": "code",
   "execution_count": 35,
   "metadata": {},
   "outputs": [
    {
     "name": "stderr",
     "output_type": "stream",
     "text": [
      "/home/yingjung_cd/miniconda3/lib/python3.6/site-packages/ipykernel_launcher.py:10: FutureWarning: how in .resample() is deprecated\n",
      "the new syntax is .resample(...).mean()\n",
      "  # Remove the CWD from sys.path while we load stuff.\n"
     ]
    }
   ],
   "source": [
    "i=1\n",
    "for file in allf:\n",
    "    file1 = pd.read_table(file, delim_whitespace=True) #skiprows=[0]\n",
    "    id='WTD_'+str(i)\n",
    "    i+=1\n",
    "    file1.columns=['agency','Site_ID','type','Date',id]\n",
    "    file1['Date'] = pd.to_datetime(file1['Date'])\n",
    "    file1ok= file1.set_index(pd.DatetimeIndex(file1['Date']))\n",
    "    file1okf=file1ok.resample(\"M\", how='mean')\n",
    "    base=os.path.basename(file)\n",
    "    split=os.path.splitext(base)\n",
    "    file1okf.to_csv(split[0]+'_ok.csv')"
   ]
  },
  {
   "cell_type": "markdown",
   "metadata": {},
   "source": [
    "### Moving files from folder to another folder"
   ]
  },
  {
   "cell_type": "code",
   "execution_count": 37,
   "metadata": {},
   "outputs": [],
   "source": [
    "import glob, os, shutil\n",
    "\n",
    "source_dir = '/mnt/c/Users/HCD/UW_work/spatial_algrithom/Data/gw_interpolated/USGS_gw/procesed_data/raw_text_ok' #Path where your files are at the moment\n",
    "dst = '/mnt/c/Users/HCD/UW_work/spatial_algrithom/Data/gw_interpolated/USGS_gw/procesed_data/test' #Path you want to move your files to\n",
    "files = glob.iglob(os.path.join(source_dir, \"*.csv\"))\n",
    "for file in files:\n",
    "    if os.path.isfile(file):\n",
    "        shutil.move(file, dst)"
   ]
  },
  {
   "cell_type": "markdown",
   "metadata": {},
   "source": [
    "### Merge all the files based on one column"
   ]
  },
  {
   "cell_type": "code",
   "execution_count": 90,
   "metadata": {},
   "outputs": [
    {
     "name": "stderr",
     "output_type": "stream",
     "text": [
      "/home/yingjung_cd/miniconda3/lib/python3.6/site-packages/ipykernel_launcher.py:6: FutureWarning: Sorting because non-concatenation axis is not aligned. A future version\n",
      "of pandas will change to not sort by default.\n",
      "\n",
      "To accept the future behavior, pass 'sort=False'.\n",
      "\n",
      "To retain the current behavior and silence the warning, pass 'sort=True'.\n",
      "\n",
      "  \n"
     ]
    }
   ],
   "source": [
    "path = r'/mnt/c/Users/HCD/UW_work/spatial_algrithom/Data/gw_interpolated/USGS_gw/procesed_data' # use your path\n",
    "                    # use your path\n",
    "all_files = glob.glob(os.path.join(path, \"*.csv\"))\n",
    "lodf = [pd.read_csv(f) for f in all_files]\n",
    "\n",
    "df = pd.concat([d.set_index('Date') for d in lodf], axis=1).reset_index()\n",
    "df.drop('Site_ID', axis=1, inplace=True)\n",
    "df.to_csv(\"all_test_ok1.csv\")"
   ]
  }
 ],
 "metadata": {
  "kernelspec": {
   "display_name": "Python 3",
   "language": "python",
   "name": "python3"
  },
  "language_info": {
   "codemirror_mode": {
    "name": "ipython",
    "version": 3
   },
   "file_extension": ".py",
   "mimetype": "text/x-python",
   "name": "python",
   "nbconvert_exporter": "python",
   "pygments_lexer": "ipython3",
   "version": "3.6.8"
  }
 },
 "nbformat": 4,
 "nbformat_minor": 2
}
